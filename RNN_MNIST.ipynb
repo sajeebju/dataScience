{
  "nbformat": 4,
  "nbformat_minor": 0,
  "metadata": {
    "colab": {
      "name": "RNN_MNIST.ipynb",
      "provenance": [],
      "collapsed_sections": [],
      "authorship_tag": "ABX9TyOPlJ9VmHZeOkans7H1L+CH",
      "include_colab_link": true
    },
    "kernelspec": {
      "name": "python3",
      "display_name": "Python 3"
    },
    "accelerator": "GPU",
    "gpuClass": "standard"
  },
  "cells": [
    {
      "cell_type": "markdown",
      "metadata": {
        "id": "view-in-github",
        "colab_type": "text"
      },
      "source": [
        "<a href=\"https://colab.research.google.com/github/sajeebju/Deep-Learning/blob/main/RNN_MNIST.ipynb\" target=\"_parent\"><img src=\"https://colab.research.google.com/assets/colab-badge.svg\" alt=\"Open In Colab\"/></a>"
      ]
    },
    {
      "cell_type": "code",
      "metadata": {
        "id": "2AZHiFLFYAu7"
      },
      "source": [
        "import tensorflow as tf\n",
        "from tensorflow.keras.models import Sequential\n",
        "from tensorflow.keras.layers import Dense, Dropout, LSTM\n",
        "import matplotlib.pyplot as plt"
      ],
      "execution_count": 6,
      "outputs": []
    },
    {
      "cell_type": "code",
      "metadata": {
        "id": "7ZayG-_CYPm2"
      },
      "source": [
        "mnist = tf.keras.datasets.mnist \n",
        "(x_train, y_train), (x_test, y_test) = mnist.load_data()"
      ],
      "execution_count": 7,
      "outputs": []
    },
    {
      "cell_type": "code",
      "metadata": {
        "id": "NW7RsilyTsFm"
      },
      "source": [
        "x_train = x_train / 255.0\n",
        "x_test = x_test / 255.0"
      ],
      "execution_count": 8,
      "outputs": []
    },
    {
      "cell_type": "code",
      "metadata": {
        "id": "azMbo9d_ZGmb",
        "colab": {
          "base_uri": "https://localhost:8080/"
        },
        "outputId": "a36542a8-455c-49da-f18d-841688264483"
      },
      "source": [
        "model = tf.keras.models.Sequential()\n",
        "\n",
        "model.add(LSTM(128, input_shape = (x_train.shape[1:]), activation = \"relu\", return_sequences = True))\n",
        "model.add(Dropout(0.2))\n",
        "\n",
        "model.add(LSTM(128, activation= 'relu'))\n",
        "model.add(Dropout(0.2))\n",
        "\n",
        "model.add(Dense(32, activation= 'relu'))\n",
        "model.add(Dropout(0.2))\n",
        "\n",
        "model.add(Dense(10, activation= 'softmax'))\n",
        "\n",
        "opt = tf.keras.optimizers.Adam(learning_rate= 1e-3, decay = 1e-5)\n",
        "\n",
        "model.compile(loss = \"sparse_categorical_crossentropy\", optimizer = opt, metrics = ['accuracy'])\n",
        "\n",
        "history = model.fit(x_train, y_train, epochs = 3, validation_data = (x_test, y_test))\n"
      ],
      "execution_count": 9,
      "outputs": [
        {
          "output_type": "stream",
          "name": "stdout",
          "text": [
            "WARNING:tensorflow:Layer lstm_2 will not use cuDNN kernels since it doesn't meet the criteria. It will use a generic GPU kernel as fallback when running on GPU.\n",
            "WARNING:tensorflow:Layer lstm_3 will not use cuDNN kernels since it doesn't meet the criteria. It will use a generic GPU kernel as fallback when running on GPU.\n",
            "Epoch 1/3\n",
            "1875/1875 [==============================] - 99s 52ms/step - loss: 0.5548 - accuracy: 0.8239 - val_loss: 0.1603 - val_accuracy: 0.9518\n",
            "Epoch 2/3\n",
            "1875/1875 [==============================] - 92s 49ms/step - loss: 0.1604 - accuracy: 0.9581 - val_loss: 0.0814 - val_accuracy: 0.9766\n",
            "Epoch 3/3\n",
            "1875/1875 [==============================] - 90s 48ms/step - loss: 0.1043 - accuracy: 0.9726 - val_loss: 0.1000 - val_accuracy: 0.9770\n"
          ]
        }
      ]
    },
    {
      "cell_type": "code",
      "source": [
        "validation_accuracy = 0.9770\n",
        "print(\"Validation Accuracy = {:.2f} %\".format(validation_accuracy))"
      ],
      "metadata": {
        "colab": {
          "base_uri": "https://localhost:8080/"
        },
        "id": "9vV0x6zAr9nD",
        "outputId": "9829ccc4-b65c-4f5e-988a-f64a13c50bfc"
      },
      "execution_count": 13,
      "outputs": [
        {
          "output_type": "stream",
          "name": "stdout",
          "text": [
            "Validation Accuracy = 0.98 %\n"
          ]
        }
      ]
    },
    {
      "cell_type": "code",
      "source": [
        ""
      ],
      "metadata": {
        "id": "kbJhahz9stK-"
      },
      "execution_count": null,
      "outputs": []
    }
  ]
}