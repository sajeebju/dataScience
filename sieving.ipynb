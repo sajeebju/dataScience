{
  "nbformat": 4,
  "nbformat_minor": 0,
  "metadata": {
    "colab": {
      "provenance": []
    },
    "kernelspec": {
      "name": "python3",
      "display_name": "Python 3"
    },
    "language_info": {
      "name": "python"
    },
    "accelerator": "GPU"
  },
  "cells": [
    {
      "cell_type": "code",
      "execution_count": null,
      "metadata": {
        "colab": {
          "base_uri": "https://localhost:8080/",
          "height": 269
        },
        "id": "WJbhFWG_uPfI",
        "outputId": "ea093572-d40f-4bd8-802c-0efa0e47b0f3"
      },
      "outputs": [
        {
          "output_type": "execute_result",
          "data": {
            "text/plain": [
              "  Mash Size (d) (mm)  phi-size  weight-percentage  cum_weight_percentage\n",
              "0                  2        -1               0.00                   0.00\n",
              "1                  1         0               0.24                   0.24\n",
              "2                0.5         1               4.63                   4.87\n",
              "3               0.25         2              25.65                  30.52\n",
              "4              0.125         3              60.81                  91.33\n",
              "5              0.063         4               5.91                  97.24\n",
              "6                pan         5               2.76                 100.00"
            ],
            "text/html": [
              "\n",
              "  <div id=\"df-27cc757c-90fd-4b2a-bc7c-3a50045830d2\">\n",
              "    <div class=\"colab-df-container\">\n",
              "      <div>\n",
              "<style scoped>\n",
              "    .dataframe tbody tr th:only-of-type {\n",
              "        vertical-align: middle;\n",
              "    }\n",
              "\n",
              "    .dataframe tbody tr th {\n",
              "        vertical-align: top;\n",
              "    }\n",
              "\n",
              "    .dataframe thead th {\n",
              "        text-align: right;\n",
              "    }\n",
              "</style>\n",
              "<table border=\"1\" class=\"dataframe\">\n",
              "  <thead>\n",
              "    <tr style=\"text-align: right;\">\n",
              "      <th></th>\n",
              "      <th>Mash Size (d) (mm)</th>\n",
              "      <th>phi-size</th>\n",
              "      <th>weight-percentage</th>\n",
              "      <th>cum_weight_percentage</th>\n",
              "    </tr>\n",
              "  </thead>\n",
              "  <tbody>\n",
              "    <tr>\n",
              "      <th>0</th>\n",
              "      <td>2</td>\n",
              "      <td>-1</td>\n",
              "      <td>0.00</td>\n",
              "      <td>0.00</td>\n",
              "    </tr>\n",
              "    <tr>\n",
              "      <th>1</th>\n",
              "      <td>1</td>\n",
              "      <td>0</td>\n",
              "      <td>0.24</td>\n",
              "      <td>0.24</td>\n",
              "    </tr>\n",
              "    <tr>\n",
              "      <th>2</th>\n",
              "      <td>0.5</td>\n",
              "      <td>1</td>\n",
              "      <td>4.63</td>\n",
              "      <td>4.87</td>\n",
              "    </tr>\n",
              "    <tr>\n",
              "      <th>3</th>\n",
              "      <td>0.25</td>\n",
              "      <td>2</td>\n",
              "      <td>25.65</td>\n",
              "      <td>30.52</td>\n",
              "    </tr>\n",
              "    <tr>\n",
              "      <th>4</th>\n",
              "      <td>0.125</td>\n",
              "      <td>3</td>\n",
              "      <td>60.81</td>\n",
              "      <td>91.33</td>\n",
              "    </tr>\n",
              "    <tr>\n",
              "      <th>5</th>\n",
              "      <td>0.063</td>\n",
              "      <td>4</td>\n",
              "      <td>5.91</td>\n",
              "      <td>97.24</td>\n",
              "    </tr>\n",
              "    <tr>\n",
              "      <th>6</th>\n",
              "      <td>pan</td>\n",
              "      <td>5</td>\n",
              "      <td>2.76</td>\n",
              "      <td>100.00</td>\n",
              "    </tr>\n",
              "  </tbody>\n",
              "</table>\n",
              "</div>\n",
              "      <button class=\"colab-df-convert\" onclick=\"convertToInteractive('df-27cc757c-90fd-4b2a-bc7c-3a50045830d2')\"\n",
              "              title=\"Convert this dataframe to an interactive table.\"\n",
              "              style=\"display:none;\">\n",
              "        \n",
              "  <svg xmlns=\"http://www.w3.org/2000/svg\" height=\"24px\"viewBox=\"0 0 24 24\"\n",
              "       width=\"24px\">\n",
              "    <path d=\"M0 0h24v24H0V0z\" fill=\"none\"/>\n",
              "    <path d=\"M18.56 5.44l.94 2.06.94-2.06 2.06-.94-2.06-.94-.94-2.06-.94 2.06-2.06.94zm-11 1L8.5 8.5l.94-2.06 2.06-.94-2.06-.94L8.5 2.5l-.94 2.06-2.06.94zm10 10l.94 2.06.94-2.06 2.06-.94-2.06-.94-.94-2.06-.94 2.06-2.06.94z\"/><path d=\"M17.41 7.96l-1.37-1.37c-.4-.4-.92-.59-1.43-.59-.52 0-1.04.2-1.43.59L10.3 9.45l-7.72 7.72c-.78.78-.78 2.05 0 2.83L4 21.41c.39.39.9.59 1.41.59.51 0 1.02-.2 1.41-.59l7.78-7.78 2.81-2.81c.8-.78.8-2.07 0-2.86zM5.41 20L4 18.59l7.72-7.72 1.47 1.35L5.41 20z\"/>\n",
              "  </svg>\n",
              "      </button>\n",
              "      \n",
              "  <style>\n",
              "    .colab-df-container {\n",
              "      display:flex;\n",
              "      flex-wrap:wrap;\n",
              "      gap: 12px;\n",
              "    }\n",
              "\n",
              "    .colab-df-convert {\n",
              "      background-color: #E8F0FE;\n",
              "      border: none;\n",
              "      border-radius: 50%;\n",
              "      cursor: pointer;\n",
              "      display: none;\n",
              "      fill: #1967D2;\n",
              "      height: 32px;\n",
              "      padding: 0 0 0 0;\n",
              "      width: 32px;\n",
              "    }\n",
              "\n",
              "    .colab-df-convert:hover {\n",
              "      background-color: #E2EBFA;\n",
              "      box-shadow: 0px 1px 2px rgba(60, 64, 67, 0.3), 0px 1px 3px 1px rgba(60, 64, 67, 0.15);\n",
              "      fill: #174EA6;\n",
              "    }\n",
              "\n",
              "    [theme=dark] .colab-df-convert {\n",
              "      background-color: #3B4455;\n",
              "      fill: #D2E3FC;\n",
              "    }\n",
              "\n",
              "    [theme=dark] .colab-df-convert:hover {\n",
              "      background-color: #434B5C;\n",
              "      box-shadow: 0px 1px 3px 1px rgba(0, 0, 0, 0.15);\n",
              "      filter: drop-shadow(0px 1px 2px rgba(0, 0, 0, 0.3));\n",
              "      fill: #FFFFFF;\n",
              "    }\n",
              "  </style>\n",
              "\n",
              "      <script>\n",
              "        const buttonEl =\n",
              "          document.querySelector('#df-27cc757c-90fd-4b2a-bc7c-3a50045830d2 button.colab-df-convert');\n",
              "        buttonEl.style.display =\n",
              "          google.colab.kernel.accessAllowed ? 'block' : 'none';\n",
              "\n",
              "        async function convertToInteractive(key) {\n",
              "          const element = document.querySelector('#df-27cc757c-90fd-4b2a-bc7c-3a50045830d2');\n",
              "          const dataTable =\n",
              "            await google.colab.kernel.invokeFunction('convertToInteractive',\n",
              "                                                     [key], {});\n",
              "          if (!dataTable) return;\n",
              "\n",
              "          const docLinkHtml = 'Like what you see? Visit the ' +\n",
              "            '<a target=\"_blank\" href=https://colab.research.google.com/notebooks/data_table.ipynb>data table notebook</a>'\n",
              "            + ' to learn more about interactive tables.';\n",
              "          element.innerHTML = '';\n",
              "          dataTable['output_type'] = 'display_data';\n",
              "          await google.colab.output.renderOutput(dataTable, element);\n",
              "          const docLink = document.createElement('div');\n",
              "          docLink.innerHTML = docLinkHtml;\n",
              "          element.appendChild(docLink);\n",
              "        }\n",
              "      </script>\n",
              "    </div>\n",
              "  </div>\n",
              "  "
            ]
          },
          "metadata": {},
          "execution_count": 193
        }
      ],
      "source": [
        "import numpy as np\n",
        "import matplotlib.pyplot as plt\n",
        "from matplotlib import rcParams\n",
        "import seaborn as sns\n",
        "import pandas as pd\n",
        "from scipy.interpolate import make_interp_spline\n",
        "phi_size = [-1,0,1,2,3,4,5]\n",
        "weight_percentage = [0, 0.24, 4.63, 25.65, 60.81, 5.91, 2.76]\n",
        "cum_weight = np.cumsum(weight_percentage)\n",
        "\n",
        "dataset = pd.DataFrame({\"Mash Size (d) (mm)\" : [2, 1, 0.5, 0.25, 0.125, 0.063, \"pan\"],  \"phi-size\" : phi_size, \"weight-percentage\" : weight_percentage, \"cum_weight_percentage\" : cum_weight })\n",
        "dataset"
      ]
    },
    {
      "cell_type": "code",
      "source": [
        ""
      ],
      "metadata": {
        "id": "_D3GAx_U3KGY"
      },
      "execution_count": null,
      "outputs": []
    },
    {
      "cell_type": "code",
      "source": [
        "phi_size = dataset[\"phi-size\"]\n",
        "weight = dataset[\"weight-percentage\"]\n",
        "\n",
        "x = np.arange(len(phi_size)) # the label locations\n",
        "width = 1 # the width of the bars\n",
        "\n",
        "fig, ax = plt.subplots(figsize = (10, 5))\n",
        "\n",
        "ax.set_title(\"Barplot\", fontsize = 15, fontweight = 'bold')\n",
        "ax.set_ylabel(\"Individual Weight Percent\", fontsize = 15)\n",
        "ax.set_xlabel(\"Φ Interval\", fontsize = 20)\n",
        "\n",
        "pps = ax.bar(x - width/2, weight, width, label='Weight', color = \"c\")\n",
        "for p in pps:\n",
        "   height = p.get_height()\n",
        "   ax.annotate('{}'.format(height),\n",
        "      xy=(p.get_x() + p.get_width() / 2, height),\n",
        "      xytext=(0, 3), # 3 points vertical offset\n",
        "      textcoords=\"offset points\",\n",
        "      ha='center', va='bottom')\n",
        "\n",
        "plt.xticks([0, 1, 2, 3, 4, 5,6 ],['-1', '0', '1', '2', '3', '4', '4.25-14'])\n",
        "plt.yticks(np.arange(0.00, 101.00, 10.00))\n",
        "sns.set_style(\"white\")\n",
        "plt.show()"
      ],
      "metadata": {
        "colab": {
          "base_uri": "https://localhost:8080/",
          "height": 363
        },
        "id": "qqw9nCRXsb4L",
        "outputId": "61835ba5-7abe-489e-e4b6-92aba6ef8f4b"
      },
      "execution_count": null,
      "outputs": [
        {
          "output_type": "display_data",
          "data": {
            "text/plain": [
              "<Figure size 720x360 with 1 Axes>"
            ],
            "image/png": "[encoded data removed]"
          },
          "metadata": {}
        }
      ]
    },
    {
      "cell_type": "code",
      "source": [
        "plt.figure(figsize = (10, 5))\n",
        "plt.plot(dataset[\"phi-size\"], dataset[\"weight-percentage\"], color = \"c\", lw = 2, marker = \".\")\n",
        "plt.title(\"Frequency Curve\", fontsize = 15, fontweight = 'bold')\n",
        "plt.ylabel(\"Individual Weight Percent\", fontsize = 15)\n",
        "plt.xlabel(\"Φ Size\", fontsize = 20)\n",
        "plt.legend(\"W\")\n",
        "plt.ylim(0.00, 100.00, 10)\n",
        "plt.xticks([-1, 0, 1, 2, 3, 4, 5],['-1', '0', '1', '2', '3', '4', '4.25-14'])\n",
        "plt.yticks(np.arange(0.00, 101.00, 10.00))\n",
        "plt.xticks(fontsize = 10)\n",
        "plt.yticks(fontsize = 10)\n",
        "plt.grid(False)\n",
        "plt.show()"
      ],
      "metadata": {
        "colab": {
          "base_uri": "https://localhost:8080/",
          "height": 363
        },
        "id": "CwV6DhQIuZaH",
        "outputId": "96b43dc3-01ae-45e6-bd73-3e5668c3a3ca"
      },
      "execution_count": null,
      "outputs": [
        {
          "output_type": "display_data",
          "data": {
            "text/plain": [
              "<Figure size 720x360 with 1 Axes>"
            ],
            "image/png": "[encoded data removed]"
          },
          "metadata": {}
        }
      ]
    },
    {
      "cell_type": "code",
      "source": [],
      "metadata": {
        "id": "cMNHa766-Lwq"
      },
      "execution_count": null,
      "outputs": []
    },
    {
      "cell_type": "code",
      "source": [
        "plt.figure(figsize = (10, 5))\n",
        "plt.plot(dataset[\"phi-size\"], dataset[\"cum_weight_percentage\"], color = 'c', lw = 2, marker = \".\")\n",
        "plt.title(\"Cumulative Curve\", fontsize = 15, fontweight = 'bold')\n",
        "plt.ylabel(\"Cumulative Weight Percent\", fontsize = 15)\n",
        "plt.xlabel(\"Φ Size\", fontsize = 15)\n",
        "plt.legend(\"W\")\n",
        "plt.ylim(0.00, 100.00, 10)\n",
        "plt.xticks([-1, 0, 1, 2, 3, 4, 5],['-1', '0', '1', '2', '3', '4', '4.25-14'])\n",
        "plt.yticks(np.arange(0, 101, 10))\n",
        "plt.xticks(fontsize = 10)\n",
        "plt.yticks(fontsize = 10)\n",
        "plt.grid(False)\n",
        "plt.show()"
      ],
      "metadata": {
        "colab": {
          "base_uri": "https://localhost:8080/",
          "height": 357
        },
        "id": "fOU73fPOugRd",
        "outputId": "55bdd38e-5bc8-4757-e8a7-3babbda2960e"
      },
      "execution_count": null,
      "outputs": [
        {
          "output_type": "display_data",
          "data": {
            "text/plain": [
              "<Figure size 720x360 with 1 Axes>"
            ],
            "image/png": "[encoded data removed]"
          },
          "metadata": {
            "needs_background": "light"
          }
        }
      ]
    },
    {
      "cell_type": "code",
      "source": [
        "# Eastern Flank"
      ],
      "metadata": {
        "id": "swJrAuywzOkI"
      },
      "execution_count": null,
      "outputs": []
    },
    {
      "cell_type": "code",
      "source": [
        "phi_size = [-1,0,1,2,3,4,5]\n",
        "weight_percentage = [0, 0.19, 7.46, 24.57, 42, 18.59, 7.29]\n",
        "mash_size = [2, 1, 0.5, 0.25, 0.125, 0.063, \"pan\"]\n",
        "cum_weight = np.cumsum(weight_percentage)\n",
        "datasetE = pd.DataFrame({\"Mash Size (d) (mm)\" : mash_size, \"phi-size\" : phi_size, \"weight-percentage\" : weight_percentage, \"cum_weight_percentage\" : cum_weight })\n",
        "datasetE"
      ],
      "metadata": {
        "colab": {
          "base_uri": "https://localhost:8080/",
          "height": 269
        },
        "id": "dNpezOrXzQG1",
        "outputId": "0938b65f-576f-49fa-f33d-2fa6b9ee2c11"
      },
      "execution_count": null,
      "outputs": [
        {
          "output_type": "execute_result",
          "data": {
            "text/plain": [
              "  Mash Size (d) (mm)  phi-size  weight-percentage  cum_weight_percentage\n",
              "0                  2        -1               0.00                   0.00\n",
              "1                  1         0               0.19                   0.19\n",
              "2                0.5         1               7.46                   7.65\n",
              "3               0.25         2              24.57                  32.22\n",
              "4              0.125         3              42.00                  74.22\n",
              "5              0.063         4              18.59                  92.81\n",
              "6                pan         5               7.29                 100.10"
            ],
            "text/html": [
              "\n",
              "  <div id=\"df-e2908363-71a8-476c-aa51-a9c48051f917\">\n",
              "    <div class=\"colab-df-container\">\n",
              "      <div>\n",
              "<style scoped>\n",
              "    .dataframe tbody tr th:only-of-type {\n",
              "        vertical-align: middle;\n",
              "    }\n",
              "\n",
              "    .dataframe tbody tr th {\n",
              "        vertical-align: top;\n",
              "    }\n",
              "\n",
              "    .dataframe thead th {\n",
              "        text-align: right;\n",
              "    }\n",
              "</style>\n",
              "<table border=\"1\" class=\"dataframe\">\n",
              "  <thead>\n",
              "    <tr style=\"text-align: right;\">\n",
              "      <th></th>\n",
              "      <th>Mash Size (d) (mm)</th>\n",
              "      <th>phi-size</th>\n",
              "      <th>weight-percentage</th>\n",
              "      <th>cum_weight_percentage</th>\n",
              "    </tr>\n",
              "  </thead>\n",
              "  <tbody>\n",
              "    <tr>\n",
              "      <th>0</th>\n",
              "      <td>2</td>\n",
              "      <td>-1</td>\n",
              "      <td>0.00</td>\n",
              "      <td>0.00</td>\n",
              "    </tr>\n",
              "    <tr>\n",
              "      <th>1</th>\n",
              "      <td>1</td>\n",
              "      <td>0</td>\n",
              "      <td>0.19</td>\n",
              "      <td>0.19</td>\n",
              "    </tr>\n",
              "    <tr>\n",
              "      <th>2</th>\n",
              "      <td>0.5</td>\n",
              "      <td>1</td>\n",
              "      <td>7.46</td>\n",
              "      <td>7.65</td>\n",
              "    </tr>\n",
              "    <tr>\n",
              "      <th>3</th>\n",
              "      <td>0.25</td>\n",
              "      <td>2</td>\n",
              "      <td>24.57</td>\n",
              "      <td>32.22</td>\n",
              "    </tr>\n",
              "    <tr>\n",
              "      <th>4</th>\n",
              "      <td>0.125</td>\n",
              "      <td>3</td>\n",
              "      <td>42.00</td>\n",
              "      <td>74.22</td>\n",
              "    </tr>\n",
              "    <tr>\n",
              "      <th>5</th>\n",
              "      <td>0.063</td>\n",
              "      <td>4</td>\n",
              "      <td>18.59</td>\n",
              "      <td>92.81</td>\n",
              "    </tr>\n",
              "    <tr>\n",
              "      <th>6</th>\n",
              "      <td>pan</td>\n",
              "      <td>5</td>\n",
              "      <td>7.29</td>\n",
              "      <td>100.10</td>\n",
              "    </tr>\n",
              "  </tbody>\n",
              "</table>\n",
              "</div>\n",
              "      <button class=\"colab-df-convert\" onclick=\"convertToInteractive('df-e2908363-71a8-476c-aa51-a9c48051f917')\"\n",
              "              title=\"Convert this dataframe to an interactive table.\"\n",
              "              style=\"display:none;\">\n",
              "        \n",
              "  <svg xmlns=\"http://www.w3.org/2000/svg\" height=\"24px\"viewBox=\"0 0 24 24\"\n",
              "       width=\"24px\">\n",
              "    <path d=\"M0 0h24v24H0V0z\" fill=\"none\"/>\n",
              "    <path d=\"M18.56 5.44l.94 2.06.94-2.06 2.06-.94-2.06-.94-.94-2.06-.94 2.06-2.06.94zm-11 1L8.5 8.5l.94-2.06 2.06-.94-2.06-.94L8.5 2.5l-.94 2.06-2.06.94zm10 10l.94 2.06.94-2.06 2.06-.94-2.06-.94-.94-2.06-.94 2.06-2.06.94z\"/><path d=\"M17.41 7.96l-1.37-1.37c-.4-.4-.92-.59-1.43-.59-.52 0-1.04.2-1.43.59L10.3 9.45l-7.72 7.72c-.78.78-.78 2.05 0 2.83L4 21.41c.39.39.9.59 1.41.59.51 0 1.02-.2 1.41-.59l7.78-7.78 2.81-2.81c.8-.78.8-2.07 0-2.86zM5.41 20L4 18.59l7.72-7.72 1.47 1.35L5.41 20z\"/>\n",
              "  </svg>\n",
              "      </button>\n",
              "      \n",
              "  <style>\n",
              "    .colab-df-container {\n",
              "      display:flex;\n",
              "      flex-wrap:wrap;\n",
              "      gap: 12px;\n",
              "    }\n",
              "\n",
              "    .colab-df-convert {\n",
              "      background-color: #E8F0FE;\n",
              "      border: none;\n",
              "      border-radius: 50%;\n",
              "      cursor: pointer;\n",
              "      display: none;\n",
              "      fill: #1967D2;\n",
              "      height: 32px;\n",
              "      padding: 0 0 0 0;\n",
              "      width: 32px;\n",
              "    }\n",
              "\n",
              "    .colab-df-convert:hover {\n",
              "      background-color: #E2EBFA;\n",
              "      box-shadow: 0px 1px 2px rgba(60, 64, 67, 0.3), 0px 1px 3px 1px rgba(60, 64, 67, 0.15);\n",
              "      fill: #174EA6;\n",
              "    }\n",
              "\n",
              "    [theme=dark] .colab-df-convert {\n",
              "      background-color: #3B4455;\n",
              "      fill: #D2E3FC;\n",
              "    }\n",
              "\n",
              "    [theme=dark] .colab-df-convert:hover {\n",
              "      background-color: #434B5C;\n",
              "      box-shadow: 0px 1px 3px 1px rgba(0, 0, 0, 0.15);\n",
              "      filter: drop-shadow(0px 1px 2px rgba(0, 0, 0, 0.3));\n",
              "      fill: #FFFFFF;\n",
              "    }\n",
              "  </style>\n",
              "\n",
              "      <script>\n",
              "        const buttonEl =\n",
              "          document.querySelector('#df-e2908363-71a8-476c-aa51-a9c48051f917 button.colab-df-convert');\n",
              "        buttonEl.style.display =\n",
              "          google.colab.kernel.accessAllowed ? 'block' : 'none';\n",
              "\n",
              "        async function convertToInteractive(key) {\n",
              "          const element = document.querySelector('#df-e2908363-71a8-476c-aa51-a9c48051f917');\n",
              "          const dataTable =\n",
              "            await google.colab.kernel.invokeFunction('convertToInteractive',\n",
              "                                                     [key], {});\n",
              "          if (!dataTable) return;\n",
              "\n",
              "          const docLinkHtml = 'Like what you see? Visit the ' +\n",
              "            '<a target=\"_blank\" href=https://colab.research.google.com/notebooks/data_table.ipynb>data table notebook</a>'\n",
              "            + ' to learn more about interactive tables.';\n",
              "          element.innerHTML = '';\n",
              "          dataTable['output_type'] = 'display_data';\n",
              "          await google.colab.output.renderOutput(dataTable, element);\n",
              "          const docLink = document.createElement('div');\n",
              "          docLink.innerHTML = docLinkHtml;\n",
              "          element.appendChild(docLink);\n",
              "        }\n",
              "      </script>\n",
              "    </div>\n",
              "  </div>\n",
              "  "
            ]
          },
          "metadata": {},
          "execution_count": 6
        }
      ]
    },
    {
      "cell_type": "code",
      "source": [
        "phi_size = datasetE[\"phi-size\"]\n",
        "weight = datasetE[\"weight-percentage\"]\n",
        "\n",
        "x = np.arange(len(phi_size)) # the label locations\n",
        "width = 1 # the width of the bars\n",
        "\n",
        "fig, ax = plt.subplots(figsize = (10, 5))\n",
        "\n",
        "ax.set_title(\"Histogram\", fontsize = 15, fontweight = 'bold')\n",
        "ax.set_ylabel(\"Individual Weight Percent\", fontsize = 15)\n",
        "ax.set_xlabel(\"Φ Interval\", fontsize = 20)\n",
        "\n",
        "pps = ax.bar(x - width/2, weight, width, label='Weight', color = \"b\")\n",
        "for p in pps:\n",
        "   height = p.get_height()\n",
        "   ax.annotate('{}'.format(height),\n",
        "      xy=(p.get_x() + p.get_width() / 2, height),\n",
        "      xytext=(0, 3), # 3 points vertical offset\n",
        "      textcoords=\"offset points\",\n",
        "      ha='center', va='bottom')\n",
        "\n",
        "plt.xticks([0, 1, 2, 3, 4, 5,6 ],['-1', '0', '1', '2', '3', '4', '4.25-14'])\n",
        "plt.yticks(np.arange(0.00, 101.00, 10.00))\n",
        "plt.show()"
      ],
      "metadata": {
        "colab": {
          "base_uri": "https://localhost:8080/",
          "height": 363
        },
        "id": "lL7bhX2hwSHC",
        "outputId": "068feabb-2714-47ba-cfbe-bbb5f1cc9e29"
      },
      "execution_count": null,
      "outputs": [
        {
          "output_type": "display_data",
          "data": {
            "text/plain": [
              "<Figure size 720x360 with 1 Axes>"
            ],
            "image/png": "[encoded data removed]"
          },
          "metadata": {}
        }
      ]
    },
    {
      "cell_type": "code",
      "source": [
        "plt.figure(figsize = (10, 5))\n",
        "plt.plot(datasetE[\"phi-size\"], datasetE[\"weight-percentage\"], color = 'b', lw = 2, marker = \".\")\n",
        "plt.title(\"Frequency Curve\", fontsize = 15, fontweight = 'bold')\n",
        "plt.ylabel(\"Individual Weight Percent\", fontsize = 15)\n",
        "plt.xlabel(\"Φ Size\", fontsize = 15)\n",
        "plt.legend(\"E\")\n",
        "plt.ylim(0.00, 100.00, 10)\n",
        "plt.xticks([-1, 0, 1, 2, 3, 4, 5],['-1', '0', '1', '2', '3', '4', '4.25-14'])\n",
        "plt.yticks(np.arange(0.00, 101.00, 10.00))\n",
        "plt.xticks(fontsize = 10)\n",
        "plt.yticks(fontsize = 10)\n",
        "plt.grid(False)\n",
        "plt.show()"
      ],
      "metadata": {
        "colab": {
          "base_uri": "https://localhost:8080/",
          "height": 357
        },
        "id": "hYqj1SAC0bk2",
        "outputId": "c4fa81a2-bb57-49a4-c8a1-8a0cbd403c4e"
      },
      "execution_count": null,
      "outputs": [
        {
          "output_type": "display_data",
          "data": {
            "text/plain": [
              "<Figure size 720x360 with 1 Axes>"
            ],
            "image/png": "[encoded data removed]"
          },
          "metadata": {
            "needs_background": "light"
          }
        }
      ]
    },
    {
      "cell_type": "code",
      "source": [
        "plt.figure(figsize = (10, 5))\n",
        "plt.plot(datasetE[\"phi-size\"], datasetE[\"cum_weight_percentage\"], color = 'b', lw = 2, marker = \".\")\n",
        "plt.title(\"Cumulative Curve\", fontsize = 15, fontweight = 'bold')\n",
        "plt.ylabel(\"Cumulative Weight Percent\", fontsize = 15)\n",
        "plt.xlabel(\"Φ Size\", fontsize = 15)\n",
        "plt.legend(\"E\")\n",
        "plt.ylim(0.00, 100.00, 10)\n",
        "plt.xticks([-1, 0, 1, 2, 3, 4, 5],['-1', '0', '1', '2', '3', '4', '4.25-14'])\n",
        "plt.yticks(np.arange(0, 101, 10))\n",
        "plt.xticks(fontsize = 10)\n",
        "plt.yticks(fontsize = 10)\n",
        "plt.grid(False)\n",
        "plt.show()"
      ],
      "metadata": {
        "colab": {
          "base_uri": "https://localhost:8080/",
          "height": 357
        },
        "id": "5JTfNIvt0mjl",
        "outputId": "1d52d9cd-dd47-46b3-ffef-2599c1c84856"
      },
      "execution_count": null,
      "outputs": [
        {
          "output_type": "display_data",
          "data": {
            "text/plain": [
              "<Figure size 720x360 with 1 Axes>"
            ],
            "image/png": "[encoded data removed]"
          },
          "metadata": {
            "needs_background": "light"
          }
        }
      ]
    },
    {
      "cell_type": "code",
      "source": [
        ""
      ],
      "metadata": {
        "id": "jYWkyvdU0sx0"
      },
      "execution_count": null,
      "outputs": []
    },
    {
      "cell_type": "code",
      "source": [],
      "metadata": {
        "id": "pY6fmr5PLcAe"
      },
      "execution_count": null,
      "outputs": []
    },
    {
      "cell_type": "code",
      "source": [
        "#Grapahic Mean\n",
        "\n",
        "def graphicMean(phi16, phi50, phi84):\n",
        "  graphic_mean = (phi16 + phi50 + phi84 ) / 3\n",
        "  print(\"Graphic Mean = {:.2f}\".format(graphic_mean))\n",
        "\n",
        "#Western\n",
        "graphicMean(1.42, 2.4, 2.88)\n"
      ],
      "metadata": {
        "colab": {
          "base_uri": "https://localhost:8080/"
        },
        "id": "jCKjwkGRLcC8",
        "outputId": "59d955a9-2cbd-40d1-8d26-1a688ddb7b63"
      },
      "execution_count": null,
      "outputs": [
        {
          "output_type": "stream",
          "name": "stdout",
          "text": [
            "Graphic Mean = 2.23\n"
          ]
        }
      ]
    },
    {
      "cell_type": "code",
      "source": [
        "#Eastern Flank\n",
        "graphicMean(1.4, 2.5, 3.54)"
      ],
      "metadata": {
        "colab": {
          "base_uri": "https://localhost:8080/"
        },
        "id": "nruVurnHVTd2",
        "outputId": "97aeccd0-ac85-472b-fbe5-fdd0875a25c1"
      },
      "execution_count": null,
      "outputs": [
        {
          "output_type": "stream",
          "name": "stdout",
          "text": [
            "Graphic Mean = 2.48\n"
          ]
        }
      ]
    },
    {
      "cell_type": "code",
      "source": [
        "#Standard Deviation\n",
        "\n",
        "def standardDeviation(phi5, phi16, phi84, phi95):\n",
        "  std = ((phi84 + phi16))/4 / ((phi95  + phi5)/6.6)\n",
        "  print(\"Standard Deviation = {:.2f}\".format(std))\n",
        "\n",
        "standardDeviation(1, 1.42, 2.88, 3.4)"
      ],
      "metadata": {
        "colab": {
          "base_uri": "https://localhost:8080/"
        },
        "id": "A7zp6bnCMt_z",
        "outputId": "557a70d1-ec35-42dc-de7a-3146dba85c6c"
      },
      "execution_count": null,
      "outputs": [
        {
          "output_type": "stream",
          "name": "stdout",
          "text": [
            "Standard Deviation = 1.61\n"
          ]
        }
      ]
    },
    {
      "cell_type": "code",
      "source": [
        "#Eastern flank\n",
        "\n",
        "standardDeviation(1, 1.4, 3.54, 4.2)"
      ],
      "metadata": {
        "colab": {
          "base_uri": "https://localhost:8080/"
        },
        "id": "WWSwL1pZVi_f",
        "outputId": "5a7f211e-42f4-429d-93eb-301597a6ebeb"
      },
      "execution_count": null,
      "outputs": [
        {
          "output_type": "stream",
          "name": "stdout",
          "text": [
            "Standard Deviation = 1.57\n"
          ]
        }
      ]
    },
    {
      "cell_type": "code",
      "source": [
        "def skewNess(phi5, phi16, phi50, phi84, phi95):\n",
        "  skewness =((phi16 + phi84 - 2*phi50) / 2*(phi84-phi16)) + ((phi5 + phi95 - 2*phi50) / 2*(phi95-phi5))\n",
        "  print(\"Skewness = {:.2f}\".format(skewness))\n",
        "skewNess(1, 1.42, 2.4, 2.88, 3.4)"
      ],
      "metadata": {
        "colab": {
          "base_uri": "https://localhost:8080/"
        },
        "id": "zMgUfbjcN5KL",
        "outputId": "a22a6f0a-14d7-4d30-85d3-0ad2c78cc22f"
      },
      "execution_count": null,
      "outputs": [
        {
          "output_type": "stream",
          "name": "stdout",
          "text": [
            "Skewness = -0.84\n"
          ]
        }
      ]
    },
    {
      "cell_type": "code",
      "source": [
        "#Eastern flank\n",
        "skewNess(1, 1.4, 2.5, 3.54, 4.2)"
      ],
      "metadata": {
        "colab": {
          "base_uri": "https://localhost:8080/"
        },
        "id": "dIRhom3ZVxTE",
        "outputId": "8839e222-5d32-4b37-bc0c-ecec5c72fb60"
      },
      "execution_count": null,
      "outputs": [
        {
          "output_type": "stream",
          "name": "stdout",
          "text": [
            "Skewness = 0.26\n"
          ]
        }
      ]
    },
    {
      "cell_type": "code",
      "source": [
        "#Kurtosis\n",
        "\n",
        "def kurTosis(phi5, phi25, phi75, phi95):\n",
        "  kur = (phi95 - phi5) / (2.44 * (phi75 - phi25))\n",
        "  print(\"Kurtosis = {:.2f}\".format(kur))\n",
        "\n",
        "kurTosis(1, 1.65, 2.7, 3.4)"
      ],
      "metadata": {
        "colab": {
          "base_uri": "https://localhost:8080/"
        },
        "id": "PFG8FxqgPFAk",
        "outputId": "c0b333cb-2106-4018-93e8-f50b0ede4322"
      },
      "execution_count": null,
      "outputs": [
        {
          "output_type": "stream",
          "name": "stdout",
          "text": [
            "Kurtosis = 0.94\n"
          ]
        }
      ]
    },
    {
      "cell_type": "code",
      "source": [
        "#Eastern flank\n",
        "kurTosis(1, 1.77, 3, 4.2)"
      ],
      "metadata": {
        "colab": {
          "base_uri": "https://localhost:8080/"
        },
        "id": "nqlt1lotSuHS",
        "outputId": "5ff85ae9-0434-4ace-c1c6-b10d81da5f18"
      },
      "execution_count": null,
      "outputs": [
        {
          "output_type": "stream",
          "name": "stdout",
          "text": [
            "Kurtosis = 1.07\n"
          ]
        }
      ]
    },
    {
      "cell_type": "code",
      "source": [],
      "metadata": {
        "id": "I1gMs_xuWgVB"
      },
      "execution_count": null,
      "outputs": []
    }
  ]
}